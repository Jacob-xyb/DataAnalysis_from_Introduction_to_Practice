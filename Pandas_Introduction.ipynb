{
 "cells": [
  {
   "cell_type": "markdown",
   "metadata": {
    "toc": true
   },
   "source": []
  },
  {
   "cell_type": "code",
   "execution_count": 1,
   "metadata": {},
   "outputs": [],
   "source": [
    "import pandas as pd"
   ]
  },
  {
   "cell_type": "markdown",
   "metadata": {},
   "source": [
    "# Read and Write File"
   ]
  },
  {
   "cell_type": "markdown",
   "metadata": {},
   "source": [
    "## set_option()\n",
    "\n",
    "- 读取文件前的简单设置\n",
    "\n",
    "### 描述\n",
    "\n",
    "- set_option() 函数用于对文本行列对齐。\n",
    "\n",
    "### 用法\n",
    "- pd.set_option('display.unicode.east_asian_width', True) -- 列名对齐\n",
    "- pd.set_option('display.max_rows', 1000)  -- 修改默认输出最大行数\n",
    "- pd.set_option('display.max_columns', 1000)  -- 修改默认输出最大列数"
   ]
  },
  {
   "cell_type": "markdown",
   "metadata": {},
   "source": [
    "### 示例"
   ]
  },
  {
   "cell_type": "markdown",
   "metadata": {},
   "source": [
    "####  解决输出列名不对齐"
   ]
  },
  {
   "cell_type": "markdown",
   "metadata": {},
   "source": [
    "- 没有设置前内容(显然结果歪歪扭扭)"
   ]
  },
  {
   "cell_type": "code",
   "execution_count": 2,
   "metadata": {},
   "outputs": [
    {
     "name": "stdout",
     "output_type": "stream",
     "text": [
      "   排名    球员    球队 进球（点球）  出场次数  出场时间  射门  射正\n",
      "0   1   瓦尔迪   莱斯特  17(3)    20  1800  49  29\n",
      "1   2    英斯  南安普敦     14    22  1537  57  26\n",
      "2   3  奥巴梅扬   阿森纳  14(1)    22  1945  55  22\n",
      "3   4  拉什福德    曼联  14(5)    22  1881  74  34\n",
      "4   5  亚伯拉罕   切尔西     13    21  1673  66  29\n"
     ]
    }
   ],
   "source": [
    "df1_1_1 = pd.read_excel(r'data\\0301.xlsx')\n",
    "print(df1_1_1.head())"
   ]
  },
  {
   "cell_type": "markdown",
   "metadata": {},
   "source": [
    "- 设置后就对齐了"
   ]
  },
  {
   "cell_type": "code",
   "execution_count": 3,
   "metadata": {},
   "outputs": [],
   "source": [
    "pd.set_option('display.unicode.east_asian_width', True)"
   ]
  },
  {
   "cell_type": "markdown",
   "metadata": {},
   "source": [
    "- 设置后就对齐了"
   ]
  },
  {
   "cell_type": "code",
   "execution_count": 4,
   "metadata": {},
   "outputs": [
    {
     "name": "stdout",
     "output_type": "stream",
     "text": [
      "   排名      球员      球队 进球（点球）  出场次数  出场时间  射门  射正\n",
      "0     1    瓦尔迪    莱斯特        17(3)        20      1800    49    29\n",
      "1     2      英斯  南安普敦           14        22      1537    57    26\n",
      "2     3  奥巴梅扬    阿森纳        14(1)        22      1945    55    22\n",
      "3     4  拉什福德      曼联        14(5)        22      1881    74    34\n",
      "4     5  亚伯拉罕    切尔西           13        21      1673    66    29\n"
     ]
    }
   ],
   "source": [
    "df1_1_2 = pd.read_excel(r'data\\0301.xlsx')\n",
    "print(df1_1_2.head())"
   ]
  },
  {
   "cell_type": "markdown",
   "metadata": {},
   "source": [
    "## read_excel()\n",
    "\n",
    "\n",
    "### 描述\n",
    "\n",
    "- read_excel() 函数用导入.xls或.xlsx。\n",
    "\n",
    "### 语法\n",
    "```python\n",
    "pd.read_excel(io,sheet_name=0,header=0,names=None,indexcol=None,usecols=None)\n",
    "```\n",
    "\n",
    "### 参数\n",
    "- io: 字符串，xls或xlsx文件路径或类文件对象.\n",
    "- sheet_name: 获取工作表，默认值为0.\n",
    "    - sheet_name=[0,1,'Sheet3'] 第一个，第二个和名为'Sheet3'的Sheet页.\n",
    "- header: 指定作为列名的行，默认值为0.数据为除列名以外的数据，设置header=None(此时列索引为数字).\n",
    "- names: 默认值为None,要使用的列名列表.\n",
    "- index_col: 指定列为索引列，默认值为None，索引0是DataFrame对象的行标签。\n",
    "- usecols: int,list,字符串，默认为None.\n",
    "    - None: 解析所有列.\n",
    "    - int: 解析最后一列.  <font color=red># 已失效!!!  # 必须是[int]</font>\n",
    "    - list: 解析列号和列表的列。\n",
    "    - str: \"A:E\" or \"A,C,E:F\"     # 范围包括前后"
   ]
  },
  {
   "cell_type": "markdown",
   "metadata": {},
   "source": [
    "### 示例"
   ]
  },
  {
   "cell_type": "code",
   "execution_count": 5,
   "metadata": {},
   "outputs": [],
   "source": [
    "excel_path = r'data/0312.xlsx'"
   ]
  },
  {
   "cell_type": "markdown",
   "metadata": {},
   "source": [
    "#### 常规导入\n",
    "- 只需要输入path，就可以读取excel"
   ]
  },
  {
   "cell_type": "code",
   "execution_count": 6,
   "metadata": {
    "scrolled": true
   },
   "outputs": [
    {
     "name": "stdout",
     "output_type": "stream",
     "text": [
      "  买家会员名  买家实际支付金额 收货人姓名            宝贝标题\n",
      "0      mrhy1             41.86     周某某      零基础学Python\n",
      "1      mrhy2             41.86     杨某某      零基础学Python\n",
      "2      mrhy3             48.86     刘某某      零基础学Python\n",
      "3      mrhy4             48.86     张某某      零基础学Python\n",
      "4      mrhy5             48.86     赵某某  C#项目开发实战入门\n"
     ]
    }
   ],
   "source": [
    "df1_2_1 = pd.read_excel(excel_path)\n",
    "print(df1_2_1.head())"
   ]
  },
  {
   "cell_type": "markdown",
   "metadata": {},
   "source": [
    "#### sheet_name\n",
    "- None、字符串、整数、字符串列表或整数列表，默认值为0.\n",
    "    - None：获取所有的工作表。"
   ]
  },
  {
   "cell_type": "code",
   "execution_count": 7,
   "metadata": {
    "scrolled": true
   },
   "outputs": [
    {
     "name": "stdout",
     "output_type": "stream",
     "text": [
      "3\n",
      "dict_keys(['明日', '莫寒', '白桦'])\n",
      "\n",
      "   买家会员名  买家实际支付金额 收货人姓名            宝贝标题\n",
      "0      mrhy1             41.86     周某某      零基础学Python\n",
      "1      mrhy2             41.86     杨某某      零基础学Python\n",
      "2      mrhy3             48.86     刘某某      零基础学Python\n",
      "3      mrhy4             48.86     张某某      零基础学Python\n",
      "4      mrhy5             48.86     赵某某  C#项目开发实战入门\n"
     ]
    }
   ],
   "source": [
    "'''sheet_name=None'''\n",
    "df1_2_2 = pd.read_excel(excel_path, sheet_name=None)\n",
    "# print(df1_2_2) # 获取所有工作表后生成的是dict对象\n",
    "print(len(df1_2_2))\n",
    "print(df1_2_2.keys())  # 可以看到excel所有工作表的名称\n",
    "print('\\n',df1_2_2['明日'].head())"
   ]
  },
  {
   "cell_type": "code",
   "execution_count": 8,
   "metadata": {
    "scrolled": true
   },
   "outputs": [
    {
     "name": "stdout",
     "output_type": "stream",
     "text": [
      "dict_keys([0, '白桦'])\n",
      "\n",
      "   买家会员名  买家实际支付金额 收货人姓名            宝贝标题\n",
      "0      mrhy1             41.86     周某某      零基础学Python\n",
      "1      mrhy2             41.86     杨某某      零基础学Python\n",
      "2      mrhy3             48.86     刘某某      零基础学Python\n",
      "3      mrhy4             48.86     张某某      零基础学Python\n",
      "4      mrhy5             48.86     赵某某  C#项目开发实战入门\n"
     ]
    }
   ],
   "source": [
    "'''sheet_name混合使用'''\n",
    "df1_2_3 = pd.read_excel(excel_path, sheet_name=[0,'白桦'])\n",
    "# print(df1_2_3)  # 此时也是生成的dict对象，但是不同点在于key值跟随着我们的sheet_name内容的\n",
    "print(df1_2_3.keys())\n",
    "print('\\n',df1_2_3[0].head())"
   ]
  },
  {
   "cell_type": "markdown",
   "metadata": {},
   "source": [
    "#### header\n",
    "- 指定作为列名的行，默认值为0.数据为除列名以外的数据，设置header=None(此时列索引为数字)."
   ]
  },
  {
   "cell_type": "code",
   "execution_count": 9,
   "metadata": {},
   "outputs": [
    {
     "name": "stdout",
     "output_type": "stream",
     "text": [
      "  买家会员名  买家实际支付金额 收货人姓名            宝贝标题\n",
      "0      mrhy1             41.86     周某某      零基础学Python\n",
      "1      mrhy2             41.86     杨某某      零基础学Python\n",
      "2      mrhy3             48.86     刘某某      零基础学Python\n",
      "3      mrhy4             48.86     张某某      零基础学Python\n",
      "4      mrhy5             48.86     赵某某  C#项目开发实战入门\n"
     ]
    }
   ],
   "source": [
    "'''原文本'''\n",
    "df1_2_4 = pd.read_excel(excel_path)\n",
    "print(df1_2_4.head())"
   ]
  },
  {
   "cell_type": "code",
   "execution_count": 10,
   "metadata": {},
   "outputs": [
    {
     "name": "stdout",
     "output_type": "stream",
     "text": [
      "            0                 1           2               3\n",
      "0  买家会员名  买家实际支付金额  收货人姓名        宝贝标题\n",
      "1       mrhy1             41.86      周某某  零基础学Python\n",
      "2       mrhy2             41.86      杨某某  零基础学Python\n",
      "3       mrhy3             48.86      刘某某  零基础学Python\n",
      "4       mrhy4             48.86      张某某  零基础学Python\n"
     ]
    }
   ],
   "source": [
    "'''header=None'''\n",
    "df1_2_5 = pd.read_excel(excel_path, header=None)\n",
    "print(df1_2_5.head())\n",
    "# 会发现第一行也变成了数据，列索引为[0,1,2,3...]"
   ]
  },
  {
   "cell_type": "code",
   "execution_count": 11,
   "metadata": {},
   "outputs": [
    {
     "name": "stdout",
     "output_type": "stream",
     "text": [
      "   mrhy1  41.86  周某某      零基础学Python\n",
      "0  mrhy2  41.86  杨某某      零基础学Python\n",
      "1  mrhy3  48.86  刘某某      零基础学Python\n",
      "2  mrhy4  48.86  张某某      零基础学Python\n",
      "3  mrhy5  48.86  赵某某  C#项目开发实战入门\n",
      "4  mrhy6  48.86  李某某  C#项目开发实战入门\n"
     ]
    }
   ],
   "source": [
    "'''header=1'''\n",
    "df1_2_6 = pd.read_excel(excel_path, header=1)\n",
    "print(df1_2_6.head())\n",
    "# header=number时，前面行的数据就被抹去了。"
   ]
  },
  {
   "cell_type": "code",
   "execution_count": 12,
   "metadata": {
    "scrolled": true
   },
   "outputs": [
    {
     "name": "stdout",
     "output_type": "stream",
     "text": [
      "   mrhy2   41.86  杨某某      零基础学Python\n",
      "0  mrhy3   48.86  刘某某      零基础学Python\n",
      "1  mrhy4   48.86  张某某      零基础学Python\n",
      "2  mrhy5   48.86  赵某某  C#项目开发实战入门\n",
      "3  mrhy6   48.86  李某某  C#项目开发实战入门\n",
      "4  mrhy7  104.72  张某某  C语言精彩编程200例\n"
     ]
    }
   ],
   "source": [
    "'''header=2'''\n",
    "df1_2_7 = pd.read_excel(excel_path, header=2)\n",
    "print(df1_2_7.head())\n",
    "# header=number时，前面行的数据就被抹去了。"
   ]
  },
  {
   "cell_type": "markdown",
   "metadata": {},
   "source": [
    "#### names\n",
    "- 默认值为None,要使用的列名列表\n",
    "    - <font color=red>不做说明时，names会覆盖excel第0行</font>"
   ]
  },
  {
   "cell_type": "code",
   "execution_count": 13,
   "metadata": {},
   "outputs": [
    {
     "name": "stdout",
     "output_type": "stream",
     "text": [
      "       0      1       2                   3\n",
      "0  mrhy1  41.86  周某某      零基础学Python\n",
      "1  mrhy2  41.86  杨某某      零基础学Python\n",
      "2  mrhy3  48.86  刘某某      零基础学Python\n",
      "3  mrhy4  48.86  张某某      零基础学Python\n",
      "4  mrhy5  48.86  赵某某  C#项目开发实战入门\n"
     ]
    }
   ],
   "source": [
    "df1_2_8 = pd.read_excel(excel_path, names=[0,1,2,3])\n",
    "print(df1_2_8.head())"
   ]
  },
  {
   "cell_type": "markdown",
   "metadata": {},
   "source": [
    "- header=None 就不会覆盖了"
   ]
  },
  {
   "cell_type": "code",
   "execution_count": 14,
   "metadata": {},
   "outputs": [
    {
     "name": "stdout",
     "output_type": "stream",
     "text": [
      "            0                 1           2               3\n",
      "0  买家会员名  买家实际支付金额  收货人姓名        宝贝标题\n",
      "1       mrhy1             41.86      周某某  零基础学Python\n",
      "2       mrhy2             41.86      杨某某  零基础学Python\n",
      "3       mrhy3             48.86      刘某某  零基础学Python\n",
      "4       mrhy4             48.86      张某某  零基础学Python\n"
     ]
    }
   ],
   "source": [
    "df1_2_9 = pd.read_excel(excel_path, names=[0,1,2,3], header=None)\n",
    "print(df1_2_9.head())"
   ]
  },
  {
   "cell_type": "markdown",
   "metadata": {},
   "source": [
    "- 发现的确是先执行header的结果，再执行names\n",
    "    - header=2,前两行的都消失了，然后names替换第三行"
   ]
  },
  {
   "cell_type": "code",
   "execution_count": 15,
   "metadata": {
    "scrolled": true
   },
   "outputs": [
    {
     "name": "stdout",
     "output_type": "stream",
     "text": [
      "       0       1       2                   3\n",
      "0  mrhy3   48.86  刘某某      零基础学Python\n",
      "1  mrhy4   48.86  张某某      零基础学Python\n",
      "2  mrhy5   48.86  赵某某  C#项目开发实战入门\n",
      "3  mrhy6   48.86  李某某  C#项目开发实战入门\n",
      "4  mrhy7  104.72  张某某  C语言精彩编程200例\n"
     ]
    }
   ],
   "source": [
    "df1_2_9 = pd.read_excel(excel_path, names=[0,1,2,3], header=2)\n",
    "print(df1_2_9.head())"
   ]
  },
  {
   "cell_type": "markdown",
   "metadata": {},
   "source": [
    "#### index_col\n",
    "- 指定列为索引列，默认值为None，索引0是DataFrame对象的行标签。"
   ]
  },
  {
   "cell_type": "markdown",
   "metadata": {},
   "source": [
    "- 列索引就变化了，但是形式变的奇怪起来"
   ]
  },
  {
   "cell_type": "code",
   "execution_count": 16,
   "metadata": {
    "scrolled": true
   },
   "outputs": [
    {
     "name": "stdout",
     "output_type": "stream",
     "text": [
      "            买家实际支付金额 收货人姓名            宝贝标题\n",
      "买家会员名                                                 \n",
      "mrhy1                  41.86     周某某      零基础学Python\n",
      "mrhy2                  41.86     杨某某      零基础学Python\n",
      "mrhy3                  48.86     刘某某      零基础学Python\n",
      "mrhy4                  48.86     张某某      零基础学Python\n",
      "mrhy5                  48.86     赵某某  C#项目开发实战入门\n"
     ]
    }
   ],
   "source": [
    "df1_2_10 = pd.read_excel(excel_path, index_col=0)\n",
    "print(df1_2_10.head())"
   ]
  },
  {
   "cell_type": "markdown",
   "metadata": {},
   "source": [
    "- 与header不同的是，index_col不会丢失前面的列"
   ]
  },
  {
   "cell_type": "code",
   "execution_count": 17,
   "metadata": {
    "scrolled": true
   },
   "outputs": [
    {
     "name": "stdout",
     "output_type": "stream",
     "text": [
      "                 买家会员名 收货人姓名            宝贝标题\n",
      "买家实际支付金额                                          \n",
      "41.86                 mrhy1     周某某      零基础学Python\n",
      "41.86                 mrhy2     杨某某      零基础学Python\n",
      "48.86                 mrhy3     刘某某      零基础学Python\n",
      "48.86                 mrhy4     张某某      零基础学Python\n",
      "48.86                 mrhy5     赵某某  C#项目开发实战入门\n"
     ]
    }
   ],
   "source": [
    "df1_2_11 = pd.read_excel(excel_path, index_col=1)\n",
    "print(df1_2_11.head())"
   ]
  },
  {
   "cell_type": "markdown",
   "metadata": {},
   "source": [
    "- 可以看出是默认的先header后index_col，不推荐使用index_col，格式异常混乱"
   ]
  },
  {
   "cell_type": "code",
   "execution_count": 18,
   "metadata": {
    "scrolled": true
   },
   "outputs": [
    {
     "name": "stdout",
     "output_type": "stream",
     "text": [
      "       41.86  周某某      零基础学Python\n",
      "mrhy1                                   \n",
      "mrhy2  41.86  杨某某      零基础学Python\n",
      "mrhy3  48.86  刘某某      零基础学Python\n",
      "mrhy4  48.86  张某某      零基础学Python\n",
      "mrhy5  48.86  赵某某  C#项目开发实战入门\n",
      "mrhy6  48.86  李某某  C#项目开发实战入门\n"
     ]
    }
   ],
   "source": [
    "df1_2_12 = pd.read_excel(excel_path, index_col=0, header=1)\n",
    "print(df1_2_12.head())"
   ]
  },
  {
   "cell_type": "markdown",
   "metadata": {},
   "source": [
    "#### usecols\n",
    "- usecols: int,list,字符串，默认为None.\n",
    "    - None: 解析所有列.\n",
    "    - int: 解析最后一列.  <font color=red># 已失效!!!  # 必须是[int]</font>\n",
    "    - list: 解析列号和列表的列。\n",
    "    - str: \"A:E\" or \"A,C,E:F\"     # 范围包括前后"
   ]
  },
  {
   "cell_type": "markdown",
   "metadata": {},
   "source": [
    "- <font color=red># ```int```已失效!!!  # 必须是```[int]```</font>"
   ]
  },
  {
   "cell_type": "code",
   "execution_count": 19,
   "metadata": {
    "scrolled": false
   },
   "outputs": [],
   "source": [
    "# df1_2_13 = pd.read_excel(excel_path, usecols=2)\n",
    "# ValueError: Passing an integer for `usecols` is no longer supported.  Please pass in a list of int from 0 to `usecols` inclusive instead."
   ]
  },
  {
   "cell_type": "code",
   "execution_count": 20,
   "metadata": {
    "scrolled": true
   },
   "outputs": [
    {
     "name": "stdout",
     "output_type": "stream",
     "text": [
      "  收货人姓名\n",
      "0     周某某\n",
      "1     杨某某\n",
      "2     刘某某\n",
      "3     张某某\n",
      "4     赵某某\n"
     ]
    }
   ],
   "source": [
    "df1_2_13 = pd.read_excel(excel_path, usecols=[2])\n",
    "print(df1_2_13.head())"
   ]
  },
  {
   "cell_type": "markdown",
   "metadata": {},
   "source": [
    "- 字符串也是要放在列表里才能读出来"
   ]
  },
  {
   "cell_type": "code",
   "execution_count": 21,
   "metadata": {
    "scrolled": true
   },
   "outputs": [],
   "source": [
    "# df1_2_14 = pd.read_excel(excel_path, usecols='收货人姓名')\n",
    "# print(df1_2_14.head())\n",
    "#  ValueError: Invalid column name: 收货人姓名"
   ]
  },
  {
   "cell_type": "code",
   "execution_count": 29,
   "metadata": {},
   "outputs": [
    {
     "name": "stdout",
     "output_type": "stream",
     "text": [
      "  收货人姓名\n",
      "0     周某某\n",
      "1     杨某某\n",
      "2     刘某某\n",
      "3     张某某\n",
      "4     赵某某\n"
     ]
    }
   ],
   "source": [
    "df1_2_14 = pd.read_excel(excel_path, usecols=['收货人姓名'])\n",
    "print(df1_2_14.head())"
   ]
  },
  {
   "cell_type": "markdown",
   "metadata": {},
   "source": [
    "- 字符串的用法比较单一，均是报错"
   ]
  },
  {
   "cell_type": "code",
   "execution_count": 38,
   "metadata": {},
   "outputs": [
    {
     "ename": "SyntaxError",
     "evalue": "invalid syntax (<ipython-input-38-47825b072021>, line 5)",
     "output_type": "error",
     "traceback": [
      "\u001b[1;36m  File \u001b[1;32m\"<ipython-input-38-47825b072021>\"\u001b[1;36m, line \u001b[1;32m5\u001b[0m\n\u001b[1;33m    df1_2_18 = pd.read_excel(excel_path, usecols=[['买家会员名']: ['收货人姓名']])\u001b[0m\n\u001b[1;37m                                                           ^\u001b[0m\n\u001b[1;31mSyntaxError\u001b[0m\u001b[1;31m:\u001b[0m invalid syntax\n"
     ]
    }
   ],
   "source": [
    "# df1_2_18 = pd.read_excel(excel_path, usecols=['买家会员名'，'收货人姓名'])\n",
    "# # SyntaxError: invalid character in identifier\n",
    "# df1_2_18 = pd.read_excel(excel_path, usecols=['买家会员名': '收货人姓名'])\n",
    "# # SyntaxError: invalid syntax\n",
    "# df1_2_18 = pd.read_excel(excel_path, usecols=[['买家会员名']: ['收货人姓名']])\n",
    "# # SyntaxError: invalid syntax\n",
    "# print(df1_2_18.head())"
   ]
  },
  {
   "cell_type": "markdown",
   "metadata": {},
   "source": [
    "- <font color=darkred>还可以用Excel列字母来选取</font>"
   ]
  },
  {
   "cell_type": "code",
   "execution_count": 23,
   "metadata": {},
   "outputs": [
    {
     "name": "stdout",
     "output_type": "stream",
     "text": [
      "  买家会员名\n",
      "0      mrhy1\n",
      "1      mrhy2\n",
      "2      mrhy3\n",
      "3      mrhy4\n",
      "4      mrhy5\n"
     ]
    }
   ],
   "source": [
    "df1_2_15 = pd.read_excel(excel_path, usecols='A')\n",
    "print(df1_2_15.head())"
   ]
  },
  {
   "cell_type": "code",
   "execution_count": 24,
   "metadata": {
    "scrolled": true
   },
   "outputs": [
    {
     "name": "stdout",
     "output_type": "stream",
     "text": [
      "  买家会员名 收货人姓名\n",
      "0      mrhy1     周某某\n",
      "1      mrhy2     杨某某\n",
      "2      mrhy3     刘某某\n",
      "3      mrhy4     张某某\n",
      "4      mrhy5     赵某某\n"
     ]
    }
   ],
   "source": [
    "df1_2_16 = pd.read_excel(excel_path, usecols='A,C')\n",
    "print(df1_2_16.head())"
   ]
  },
  {
   "cell_type": "code",
   "execution_count": 25,
   "metadata": {
    "scrolled": true
   },
   "outputs": [
    {
     "name": "stdout",
     "output_type": "stream",
     "text": [
      "  买家会员名  买家实际支付金额 收货人姓名            宝贝标题\n",
      "0      mrhy1             41.86     周某某      零基础学Python\n",
      "1      mrhy2             41.86     杨某某      零基础学Python\n",
      "2      mrhy3             48.86     刘某某      零基础学Python\n",
      "3      mrhy4             48.86     张某某      零基础学Python\n",
      "4      mrhy5             48.86     赵某某  C#项目开发实战入门\n"
     ]
    }
   ],
   "source": [
    "df1_2_17 = pd.read_excel(excel_path, usecols='A:C,D')\n",
    "print(df1_2_17.head())"
   ]
  },
  {
   "cell_type": "code",
   "execution_count": null,
   "metadata": {
    "scrolled": false
   },
   "outputs": [],
   "source": [
    "# df1_2_18 = pd.read_excel(excel_path, usecols=['A'])\n",
    "# print(df1_2_18.head())\n",
    "# ValueError: Usecols do not match columns, columns expected but not found: ['A']\n",
    "'''字符串是列字母专用，列表则可以输入字符串和数字'''"
   ]
  },
  {
   "cell_type": "code",
   "execution_count": null,
   "metadata": {},
   "outputs": [],
   "source": [
    "# df1_2_18 = pd.read_excel(excel_path, usecols=[0, '收货人姓名'])\n",
    "# print(df1_2_18.head())\n",
    "# ValueError: 'usecols' must either be list-like of all strings, all unicode, all integers or a callable.\n",
    "'''同时列表里int和str是不能混用的'''"
   ]
  }
 ],
 "metadata": {
  "kernelspec": {
   "display_name": "base",
   "language": "python",
   "name": "base"
  },
  "language_info": {
   "codemirror_mode": {
    "name": "ipython",
    "version": 3
   },
   "file_extension": ".py",
   "mimetype": "text/x-python",
   "name": "python",
   "nbconvert_exporter": "python",
   "pygments_lexer": "ipython3",
   "version": "3.8.3"
  },
  "toc": {
   "base_numbering": 1,
   "nav_menu": {},
   "number_sections": true,
   "sideBar": true,
   "skip_h1_title": false,
   "title_cell": "Table of Contents",
   "title_sidebar": "Contents",
   "toc_cell": true,
   "toc_position": {
    "height": "calc(100% - 180px)",
    "left": "10px",
    "top": "150px",
    "width": "384px"
   },
   "toc_section_display": true,
   "toc_window_display": true
  },
  "varInspector": {
   "cols": {
    "lenName": 16,
    "lenType": 16,
    "lenVar": 40
   },
   "kernels_config": {
    "python": {
     "delete_cmd_postfix": "",
     "delete_cmd_prefix": "del ",
     "library": "var_list.py",
     "varRefreshCmd": "print(var_dic_list())"
    },
    "r": {
     "delete_cmd_postfix": ") ",
     "delete_cmd_prefix": "rm(",
     "library": "var_list.r",
     "varRefreshCmd": "cat(var_dic_list()) "
    }
   },
   "types_to_exclude": [
    "module",
    "function",
    "builtin_function_or_method",
    "instance",
    "_Feature"
   ],
   "window_display": false
  },
  "pycharm": {
   "stem_cell": {
    "cell_type": "raw",
    "source": [],
    "metadata": {
     "collapsed": false
    }
   }
  }
 },
 "nbformat": 4,
 "nbformat_minor": 4
}
