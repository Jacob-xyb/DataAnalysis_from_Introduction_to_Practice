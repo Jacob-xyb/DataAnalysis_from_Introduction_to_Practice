{
 "cells": [
  {
   "cell_type": "code",
   "execution_count": 8,
   "metadata": {},
   "outputs": [],
   "source": [
    "import pandas as pd\n",
    "#解决数据输出时列名不对齐的问题\n",
    "pd.set_option('display.unicode.east_asian_width', True)\n",
    "data = [[110,105,99],[105,88,115],[109,120,130],[112,115,140]]\n",
    "name = ['明日','七月流火','高袁圆','二月二']\n",
    "columns = ['语文','数学','英语']"
   ]
  },
  {
   "cell_type": "markdown",
   "metadata": {},
   "source": [
    "## 增加数据"
   ]
  },
  {
   "cell_type": "markdown",
   "metadata": {},
   "source": [
    "### df[<列名>] 增加列"
   ]
  },
  {
   "cell_type": "code",
   "execution_count": 16,
   "metadata": {},
   "outputs": [
    {
     "name": "stdout",
     "output_type": "stream",
     "text": [
      "(4, 3)\n",
      "          语文  数学  英语  物理\n",
      "明日       110   105    99    88\n",
      "七月流火   105    88   115    79\n",
      "高袁圆     109   120   130    60\n",
      "二月二     112   115   140    50\n"
     ]
    }
   ],
   "source": [
    "df = pd.DataFrame(data=data, index=name, columns=columns)\n",
    "#增加数据——按列增加数据\n",
    "# 需要注意列数据的长度要保持一致，不然会报错\n",
    "print(df.shape)\n",
    "df['物理']=[88,79,60,50]\n",
    "print(df)"
   ]
  },
  {
   "cell_type": "markdown",
   "metadata": {},
   "source": [
    "### loc属性在DataFrame的最后增加一列 "
   ]
  },
  {
   "cell_type": "code",
   "execution_count": 17,
   "metadata": {},
   "outputs": [
    {
     "name": "stdout",
     "output_type": "stream",
     "text": [
      "          语文  数学  英语  物理\n",
      "明日       110   105    99    88\n",
      "七月流火   105    88   115    79\n",
      "高袁圆     109   120   130    60\n",
      "二月二     112   115   140    50\n"
     ]
    }
   ],
   "source": [
    "df_1= pd.DataFrame(data=data, index=name, columns=columns)\n",
    "#增加数据,使用loc方法\n",
    "df_1.loc[:,'物理'] = [88,79,60,50]   #在最后插入“物理”一列，其值为等号右边数据\n",
    "print(df_1)\n",
    "# 目前loc属性一次只能插入一列"
   ]
  },
  {
   "cell_type": "markdown",
   "metadata": {},
   "source": [
    "### insert - 在指定位置插入一列 "
   ]
  },
  {
   "cell_type": "code",
   "execution_count": null,
   "metadata": {},
   "outputs": [],
   "source": [
    "df = pd.DataFrame(data=data, index=name, columns=columns)\n",
    "\n",
    "#增加数据，使用insert方法\n",
    "wl =[88,79,60,50]\n",
    "df.insert(1,'物理',wl) #在第1列后面插入“物理”，其值为wl的数值。\n",
    "print(df)"
   ]
  }
 ],
 "metadata": {
  "kernelspec": {
   "display_name": "Python 3",
   "language": "python",
   "name": "python3"
  },
  "language_info": {
   "codemirror_mode": {
    "name": "ipython",
    "version": 3
   },
   "file_extension": ".py",
   "mimetype": "text/x-python",
   "name": "python",
   "nbconvert_exporter": "python",
   "pygments_lexer": "ipython3",
   "version": "3.8.3"
  },
  "pycharm": {
   "stem_cell": {
    "cell_type": "raw",
    "metadata": {
     "collapsed": false
    },
    "source": []
   }
  }
 },
 "nbformat": 4,
 "nbformat_minor": 4
}
