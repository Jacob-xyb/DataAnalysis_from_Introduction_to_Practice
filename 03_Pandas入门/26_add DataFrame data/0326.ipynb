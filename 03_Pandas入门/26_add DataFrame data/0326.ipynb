{
 "cells": [
  {
   "cell_type": "code",
   "execution_count": 1,
   "metadata": {},
   "outputs": [],
   "source": [
    "import pandas as pd"
   ]
  },
  {
   "cell_type": "code",
   "execution_count": 2,
   "metadata": {
    "pycharm": {
     "is_executing": false
    }
   },
   "outputs": [
    {
     "name": "stdout",
     "output_type": "stream",
     "text": [
      "          语文  数学  英语\n",
      "明日       110   105    99\n",
      "七月流火   105    88   115\n",
      "高袁圆     109   120   130\n",
      "二月二     112   115   140\n"
     ]
    }
   ],
   "source": [
    "#解决数据输出时列名不对齐的问题\n",
    "pd.set_option('display.unicode.east_asian_width', True)\n",
    "data = [[110,105,99],[105,88,115],[109,120,130],[112,115,140]]\n",
    "name = ['明日','七月流火','高袁圆','二月二']\n",
    "columns = ['语文','数学','英语']\n",
    "df_0 = pd.DataFrame(data=data, index=name, columns=columns)\n",
    "print(df_0)"
   ]
  },
  {
   "cell_type": "markdown",
   "metadata": {},
   "source": [
    "## 增加数据"
   ]
  },
  {
   "cell_type": "markdown",
   "metadata": {},
   "source": [
    "### df[<列名>] 增加列"
   ]
  },
  {
   "cell_type": "code",
   "execution_count": 3,
   "metadata": {
    "pycharm": {
     "is_executing": false
    }
   },
   "outputs": [
    {
     "name": "stdout",
     "output_type": "stream",
     "text": [
      "(4, 3)\n",
      "          语文  数学  英语  物理\n",
      "明日       110   105    99    88\n",
      "七月流火   105    88   115    79\n",
      "高袁圆     109   120   130    60\n",
      "二月二     112   115   140    50\n"
     ]
    }
   ],
   "source": [
    "df_1 = pd.DataFrame(data=data, index=name, columns=columns)\n",
    "#增加数据——按列增加数据\n",
    "# 需要注意列数据的长度要保持一致，不然会报错\n",
    "print(df_1.shape)\n",
    "df_1['物理']=[88,79,60,50]\n",
    "print(df_1)"
   ]
  },
  {
   "cell_type": "markdown",
   "metadata": {},
   "source": [
    "### loc属性在DataFrame的最后增加一列 "
   ]
  },
  {
   "cell_type": "code",
   "execution_count": 4,
   "metadata": {
    "pycharm": {
     "is_executing": false
    }
   },
   "outputs": [
    {
     "name": "stdout",
     "output_type": "stream",
     "text": [
      "          语文  数学  英语  物理\n",
      "明日       110   105    99    88\n",
      "七月流火   105    88   115    79\n",
      "高袁圆     109   120   130    60\n",
      "二月二     112   115   140    50\n"
     ]
    }
   ],
   "source": [
    "df_2= pd.DataFrame(data=data, index=name, columns=columns)\n",
    "#增加数据,使用loc方法\n",
    "df_2.loc[:,'物理'] = [88,79,60,50]   #在最后插入“物理”一列，其值为等号右边数据\n",
    "print(df_2)\n",
    "# 目前loc属性一次只能插入一列"
   ]
  },
  {
   "cell_type": "markdown",
   "metadata": {},
   "source": [
    "### insert - 在指定位置插入一列 "
   ]
  },
  {
   "cell_type": "code",
   "execution_count": 5,
   "metadata": {
    "pycharm": {
     "is_executing": false
    }
   },
   "outputs": [
    {
     "name": "stdout",
     "output_type": "stream",
     "text": [
      "          语文  物理  数学  英语\n",
      "明日       110    88   105    99\n",
      "七月流火   105    79    88   115\n",
      "高袁圆     109    60   120   130\n",
      "二月二     112    50   115   140\n",
      "         性别  语文  物理  数学  英语\n",
      "明日      boy   110    88   105    99\n",
      "七月流火  boy   105    79    88   115\n",
      "高袁圆    boy   109    60   120   130\n",
      "二月二    boy   112    50   115   140\n"
     ]
    }
   ],
   "source": [
    "df_3 = pd.DataFrame(data=data, index=name, columns=columns)\n",
    "#增加数据，使用insert方法\n",
    "wl =[88,79,60,50]\n",
    "df_3.insert(1,'物理',wl) #在第1列前面插入“物理”，其值为wl的数值。\n",
    "print(df_3)\n",
    "df_3.insert(0,'性别','boy')\n",
    "print(df_3)\n",
    "# df_3.insert(0,'性别','boy')  # 会报错，列名不能相同\n",
    "# print(df_3)\n",
    "# df_3.insert(-1,'体育','100')  # 会报错，找不到序号为 -1 的列\n",
    "# print(df_3)"
   ]
  },
  {
   "cell_type": "markdown",
   "metadata": {},
   "source": [
    "### loc属性在DataFrame的最红增加一行"
   ]
  },
  {
   "cell_type": "code",
   "execution_count": 6,
   "metadata": {
    "pycharm": {
     "is_executing": false
    },
    "scrolled": true
   },
   "outputs": [
    {
     "name": "stdout",
     "output_type": "stream",
     "text": [
      "          语文  数学  英语\n",
      "明日       110   105    99\n",
      "七月流火   105    88   115\n",
      "高袁圆     109   120   130\n",
      "二月二     112   115   140\n",
      "钱多多     100   120    99\n",
      "          语文  数学  英语\n",
      "明日       110   105    99\n",
      "七月流火   105    88   115\n",
      "高袁圆     109   120   130\n",
      "二月二     112   115   140\n",
      "钱多多     100   120    99\n",
      "小明       120   120   120\n"
     ]
    }
   ],
   "source": [
    "df_4 = pd.DataFrame(data=data, index=name, columns=columns)\n",
    "#按行增加数据，增加一行数据\n",
    "df_4.loc['钱多多'] = [100,120,99]\n",
    "print(df_4)\n",
    "# df_4.loc['小明'] = [120]  # ValueError: cannot set a row with mismatched columns\n",
    "df_4.loc['小明'] = 120  # 这样写就没问题了\n",
    "print(df_4)  "
   ]
  },
  {
   "cell_type": "markdown",
   "metadata": {},
   "source": [
    "### 使用append增加多行数据"
   ]
  },
  {
   "cell_type": "code",
   "execution_count": 7,
   "metadata": {
    "pycharm": {
     "is_executing": false
    }
   },
   "outputs": [
    {
     "name": "stdout",
     "output_type": "stream",
     "text": [
      "          语文  数学  英语\n",
      "明日       110   105    99\n",
      "七月流火   105    88   115\n",
      "高袁圆     109   120   130\n",
      "二月二     112   115   140\n",
      "        语文  数学  英语\n",
      "钱多多   100   120    99\n",
      "童年     123   142   139\n",
      "无名     138    60    99\n",
      "          语文  数学  英语\n",
      "明日       110   105    99\n",
      "七月流火   105    88   115\n",
      "高袁圆     109   120   130\n",
      "二月二     112   115   140\n",
      "钱多多     100   120    99\n",
      "童年       123   142   139\n",
      "无名       138    60    99\n"
     ]
    }
   ],
   "source": [
    "df_5 = pd.DataFrame(data=data, index=name, columns=columns)\n",
    "print(df_5)\n",
    "df_insert = pd.DataFrame({'语文':[100,123,138],'数学':[120,142,60],'英语':[99,139,99]},index = ['钱多多','童年','无名'])\n",
    "print(df_insert)\n",
    "df_5 = df_5.append(df_insert)\n",
    "print(df_5)"
   ]
  }
 ],
 "metadata": {
  "kernelspec": {
   "display_name": "base",
   "language": "python",
   "name": "base"
  },
  "language_info": {
   "codemirror_mode": {
    "name": "ipython",
    "version": 3
   },
   "file_extension": ".py",
   "mimetype": "text/x-python",
   "name": "python",
   "nbconvert_exporter": "python",
   "pygments_lexer": "ipython3",
   "version": "3.8.3"
  },
  "pycharm": {
   "stem_cell": {
    "cell_type": "raw",
    "metadata": {
     "collapsed": false
    },
    "source": []
   }
  }
 },
 "nbformat": 4,
 "nbformat_minor": 4
}
